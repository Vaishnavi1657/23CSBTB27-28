{
  "nbformat": 4,
  "nbformat_minor": 0,
  "metadata": {
    "colab": {
      "provenance": [],
      "authorship_tag": "ABX9TyNw371OSLBFoyfT/7SLm+4X",
      "include_colab_link": true
    },
    "kernelspec": {
      "name": "python3",
      "display_name": "Python 3"
    },
    "language_info": {
      "name": "python"
    }
  },
  "cells": [
    {
      "cell_type": "markdown",
      "metadata": {
        "id": "view-in-github",
        "colab_type": "text"
      },
      "source": [
        "<a href=\"https://colab.research.google.com/github/Vaishnavi1657/23CSBTB27-28/blob/main/Array1.ipynb\" target=\"_parent\"><img src=\"https://colab.research.google.com/assets/colab-badge.svg\" alt=\"Open In Colab\"/></a>"
      ]
    },
    {
      "cell_type": "code",
      "execution_count": null,
      "metadata": {
        "id": "oolO2TGivMKx"
      },
      "outputs": [],
      "source": []
    },
    {
      "cell_type": "markdown",
      "source": [
        "##Creation Array and Array Operation\n"
      ],
      "metadata": {
        "id": "BkMNkc--vS3x"
      }
    },
    {
      "cell_type": "code",
      "source": [
        "import numpy as np\n",
        "array=np.array([2,5,3,7,3])\n",
        "print(array)\n",
        "print(type(array))"
      ],
      "metadata": {
        "colab": {
          "base_uri": "https://localhost:8080/"
        },
        "id": "Rw9Y8mQzvZoP",
        "outputId": "23386a69-2f3f-43ec-e93d-21606433bab6"
      },
      "execution_count": 1,
      "outputs": [
        {
          "output_type": "stream",
          "name": "stdout",
          "text": [
            "[2 5 3 7 3]\n",
            "<class 'numpy.ndarray'>\n"
          ]
        }
      ]
    },
    {
      "cell_type": "code",
      "source": [
        "import numpy as np\n",
        "arry=np.array([[2,5],[4,2]])\n",
        "arry1=np.array([[2,5,4,2],[4,2,1,0]])\n",
        "arry2=np.array([[2,5,4],[4,2,5],[6,7,8]])\n",
        "print(arry)\n",
        "print(arry1)\n",
        "print(arry2)"
      ],
      "metadata": {
        "colab": {
          "base_uri": "https://localhost:8080/"
        },
        "id": "GemErBkEzBBn",
        "outputId": "48695415-fb0b-4148-a33d-af53a7586c14"
      },
      "execution_count": 3,
      "outputs": [
        {
          "output_type": "stream",
          "name": "stdout",
          "text": [
            "[[2 5]\n",
            " [4 2]]\n",
            "[[2 5 4 2]\n",
            " [4 2 1 0]]\n",
            "[[2 5 4]\n",
            " [4 2 5]\n",
            " [6 7 8]]\n"
          ]
        }
      ]
    },
    {
      "cell_type": "code",
      "source": [
        "import numpy as np\n",
        "array1=np.array([1,3,4,5,6])\n",
        "array2=np.array([2,6,3,4,8])\n",
        "print(array1)\n",
        "print(np.add(array1,array2))\n",
        "print(np.multiply(array1,array2))\n",
        "print(np.subtract(array2,array1))\n",
        "print(np.divide(array2,array1))\n",
        "print(type(array1))\n"
      ],
      "metadata": {
        "colab": {
          "base_uri": "https://localhost:8080/"
        },
        "id": "cxxukzJHz6_U",
        "outputId": "f24ccfe2-eeeb-40c1-9d6f-7125f5a7583c"
      },
      "execution_count": 8,
      "outputs": [
        {
          "output_type": "stream",
          "name": "stdout",
          "text": [
            "[1 3 4 5 6]\n",
            "[ 3  9  7  9 14]\n",
            "[ 2 18 12 20 48]\n",
            "[ 1  3 -1 -1  2]\n",
            "[2.         2.         0.75       0.8        1.33333333]\n",
            "<class 'numpy.ndarray'>\n"
          ]
        }
      ]
    }
  ]
}